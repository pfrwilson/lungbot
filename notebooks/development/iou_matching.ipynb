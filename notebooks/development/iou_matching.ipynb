{
 "cells": [
  {
   "cell_type": "markdown",
   "metadata": {},
   "source": [
    "# Developing the IoU Filtering Procedure Using Torch Tensors"
   ]
  },
  {
   "cell_type": "code",
   "execution_count": 2,
   "metadata": {},
   "outputs": [],
   "source": [
    "import torch \n",
    "from torchvision import ops "
   ]
  },
  {
   "cell_type": "markdown",
   "metadata": {},
   "source": [
    "Helper function for creating some random boxes:"
   ]
  },
  {
   "cell_type": "code",
   "execution_count": 3,
   "metadata": {},
   "outputs": [],
   "source": [
    "def random_boxes(num_boxes, format='xywh'):\n",
    "\n",
    "    xy = torch.randint(0, 100, (num_boxes, 2))\n",
    "    wh = torch.randint_like(xy, 200) + xy\n",
    "    \n",
    "    boxes = torch.concat([xy, wh], dim=-1)\n",
    "    return ops.box_convert(boxes, in_fmt='xyxy', out_fmt=format)\n"
   ]
  },
  {
   "cell_type": "code",
   "execution_count": 4,
   "metadata": {},
   "outputs": [],
   "source": [
    "\n",
    "num_true_boxes = 4\n",
    "num_proposed_boxes = 10"
   ]
  },
  {
   "cell_type": "code",
   "execution_count": 5,
   "metadata": {},
   "outputs": [],
   "source": [
    "true_boxes = random_boxes(num_true_boxes, format='xyxy')\n",
    "proposed_boxes = random_boxes(num_proposed_boxes, format='xyxy')"
   ]
  },
  {
   "cell_type": "code",
   "execution_count": 6,
   "metadata": {},
   "outputs": [
    {
     "data": {
      "text/plain": [
       "tensor([[ 91,  63,  97, 122],\n",
       "        [ 28,  35,  86, 204],\n",
       "        [ 95,   7, 126, 150],\n",
       "        [ 63,  37, 213, 122]])"
      ]
     },
     "execution_count": 6,
     "metadata": {},
     "output_type": "execute_result"
    }
   ],
   "source": [
    "true_boxes"
   ]
  },
  {
   "cell_type": "code",
   "execution_count": 7,
   "metadata": {},
   "outputs": [
    {
     "data": {
      "text/plain": [
       "tensor([[ 47,   8, 114, 114],\n",
       "        [ 47,  77, 123, 238],\n",
       "        [ 30,  89,  51, 263],\n",
       "        [ 95,  54, 188,  57],\n",
       "        [ 66,  72, 254, 139],\n",
       "        [ 57,  31, 226, 160],\n",
       "        [ 17,  61, 178, 149],\n",
       "        [ 22,  19,  74, 127],\n",
       "        [ 65,  30,  99, 200],\n",
       "        [ 12,  28,  50, 217]])"
      ]
     },
     "execution_count": 7,
     "metadata": {},
     "output_type": "execute_result"
    }
   ],
   "source": [
    "proposed_boxes"
   ]
  },
  {
   "cell_type": "markdown",
   "metadata": {},
   "source": [
    "Calculate the iou between boxes. In order to do so, we must unpack the batch dimensions, run the method seperately, and then pack them back together."
   ]
  },
  {
   "cell_type": "code",
   "execution_count": 8,
   "metadata": {},
   "outputs": [
    {
     "data": {
      "text/plain": [
       "tensor([[0.0428, 0.2229, 0.2115, 0.2466],\n",
       "        [0.0219, 0.2899, 0.1398, 0.1212],\n",
       "        [0.0000, 0.2187, 0.0000, 0.0000],\n",
       "        [0.0000, 0.0000, 0.0201, 0.0219],\n",
       "        [0.0237, 0.0636, 0.1389, 0.4084],\n",
       "        [0.0162, 0.1296, 0.1636, 0.5848],\n",
       "        [0.0250, 0.2705, 0.1719, 0.3525],\n",
       "        [0.0000, 0.3783, 0.0000, 0.0536],\n",
       "        [0.0612, 0.2860, 0.0493, 0.1848],\n",
       "        [0.0000, 0.2803, 0.0000, 0.0000]])"
      ]
     },
     "execution_count": 8,
     "metadata": {},
     "output_type": "execute_result"
    }
   ],
   "source": [
    "ious = ops.box_iou(proposed_boxes, true_boxes)\n",
    "ious"
   ]
  },
  {
   "cell_type": "markdown",
   "metadata": {},
   "source": [
    "Get the indices corresponding to the maximum IoU:"
   ]
  },
  {
   "cell_type": "code",
   "execution_count": 9,
   "metadata": {},
   "outputs": [],
   "source": [
    "max_ious = torch.max(ious, dim=-1, )"
   ]
  },
  {
   "cell_type": "code",
   "execution_count": 10,
   "metadata": {},
   "outputs": [
    {
     "data": {
      "text/plain": [
       "torch.return_types.max(\n",
       "values=tensor([0.2466, 0.2899, 0.2187, 0.0219, 0.4084, 0.5848, 0.3525, 0.3783, 0.2860,\n",
       "        0.2803]),\n",
       "indices=tensor([3, 1, 1, 3, 3, 3, 3, 1, 1, 1]))"
      ]
     },
     "execution_count": 10,
     "metadata": {},
     "output_type": "execute_result"
    }
   ],
   "source": [
    "max_ious"
   ]
  },
  {
   "cell_type": "markdown",
   "metadata": {},
   "source": [
    "Grab the corresponding true boxes. This creates a tensor of the same shape as the true boxes where each proposed box is matched with the true box of maximum overlap."
   ]
  },
  {
   "cell_type": "code",
   "execution_count": 11,
   "metadata": {},
   "outputs": [
    {
     "data": {
      "text/plain": [
       "tensor([[ 63,  37, 213, 122],\n",
       "        [ 28,  35,  86, 204],\n",
       "        [ 28,  35,  86, 204],\n",
       "        [ 63,  37, 213, 122],\n",
       "        [ 63,  37, 213, 122],\n",
       "        [ 63,  37, 213, 122],\n",
       "        [ 63,  37, 213, 122],\n",
       "        [ 28,  35,  86, 204],\n",
       "        [ 28,  35,  86, 204],\n",
       "        [ 28,  35,  86, 204]])"
      ]
     },
     "execution_count": 11,
     "metadata": {},
     "output_type": "execute_result"
    }
   ],
   "source": [
    "matching_true_boxes = true_boxes[max_ious.indices]\n",
    "matching_true_boxes"
   ]
  },
  {
   "cell_type": "markdown",
   "metadata": {},
   "source": [
    "We also have the value of the maximum:"
   ]
  },
  {
   "cell_type": "code",
   "execution_count": 12,
   "metadata": {},
   "outputs": [
    {
     "data": {
      "text/plain": [
       "tensor([0.2466, 0.2899, 0.2187, 0.0219, 0.4084, 0.5848, 0.3525, 0.3783, 0.2860,\n",
       "        0.2803])"
      ]
     },
     "execution_count": 12,
     "metadata": {},
     "output_type": "execute_result"
    }
   ],
   "source": [
    "max_ious.values"
   ]
  },
  {
   "cell_type": "markdown",
   "metadata": {},
   "source": [
    "Now, we assign labels to each of the proposed boxes based on the level of overlap with the IoUs. We intend to find a specified number of positives and negatives. \n",
    "For this toy example, we will try to extract 1 positive and 2 negatives from the samples. There are 2 cases for positive examples:\n",
    "\n",
    "- Positive examples correspond to an iou of 0.7 or above, or:\n",
    "- Positive examples are chosen based on which has the highest iou score. \n",
    "\n",
    "We will actually allow the threshold of 0.7 to be flexible, that is, we can make the threshold for a positive example lower. \n",
    "\n",
    "For negative (background) examples, the IoU must be lower than 0.3\n"
   ]
  },
  {
   "cell_type": "code",
   "execution_count": 13,
   "metadata": {},
   "outputs": [],
   "source": [
    "min_num_positives = 3\n",
    "positivity_threshold = 0.5\n",
    "negativity_threshold = 0.3"
   ]
  },
  {
   "cell_type": "markdown",
   "metadata": {},
   "source": [
    "Initialize a labels tensor with -1 (which indicates no label):"
   ]
  },
  {
   "cell_type": "code",
   "execution_count": 14,
   "metadata": {},
   "outputs": [],
   "source": [
    "labels = torch.ones_like(max_ious.values) * -1"
   ]
  },
  {
   "cell_type": "markdown",
   "metadata": {},
   "source": [
    "Find the labels where the values are greater than 0.7 and set them to 1:"
   ]
  },
  {
   "cell_type": "code",
   "execution_count": 15,
   "metadata": {},
   "outputs": [
    {
     "data": {
      "text/plain": [
       "tensor([-1., -1., -1., -1., -1.,  1., -1., -1., -1., -1.])"
      ]
     },
     "execution_count": 15,
     "metadata": {},
     "output_type": "execute_result"
    }
   ],
   "source": [
    "\n",
    "labels.masked_fill_( max_ious.values >= positivity_threshold, 1)"
   ]
  },
  {
   "cell_type": "markdown",
   "metadata": {},
   "source": [
    "If there are not enough positives obtained from thresholding, we just label the ones with the highest iou as positive. "
   ]
  },
  {
   "cell_type": "code",
   "execution_count": 16,
   "metadata": {},
   "outputs": [],
   "source": [
    "if torch.sum(max_ious.values >= positivity_threshold).item() < min_num_positives:\n",
    "    indices = torch.sort(max_ious.values, dim=-1, descending=True).indices\n",
    "    labels[indices[:min_num_positives]] = 1"
   ]
  },
  {
   "cell_type": "code",
   "execution_count": 17,
   "metadata": {},
   "outputs": [
    {
     "data": {
      "text/plain": [
       "tensor([-1., -1., -1., -1.,  1.,  1., -1.,  1., -1., -1.])"
      ]
     },
     "execution_count": 17,
     "metadata": {},
     "output_type": "execute_result"
    }
   ],
   "source": [
    "labels"
   ]
  },
  {
   "cell_type": "markdown",
   "metadata": {},
   "source": [
    "Mark all background examples (iou < 0.3) as background:"
   ]
  },
  {
   "cell_type": "code",
   "execution_count": 18,
   "metadata": {},
   "outputs": [
    {
     "data": {
      "text/plain": [
       "tensor([ 0.,  0.,  0.,  0.,  1.,  1., -1.,  1.,  0.,  0.])"
      ]
     },
     "execution_count": 18,
     "metadata": {},
     "output_type": "execute_result"
    }
   ],
   "source": [
    "labels.masked_fill_( max_ious.values < negativity_threshold, 0)"
   ]
  },
  {
   "cell_type": "markdown",
   "metadata": {},
   "source": [
    "In reality, we will always have enough low iou examples to have plenty of background examples."
   ]
  },
  {
   "cell_type": "markdown",
   "metadata": {},
   "source": [
    "## The Algorithm:"
   ]
  },
  {
   "cell_type": "markdown",
   "metadata": {},
   "source": [
    "INPUT: \n",
    "- A tensor of true boxes. This tensor will have dimensionality (num_true_boxes, 4), where b is the batch size.\n",
    "- A tensor of proposed boxes. This tensor will have dimensionality (num_proposed_boxes, 4).\n",
    "  \n",
    "OUTPUT:\n",
    "- The same tensor of proposed boxes\n",
    "- A tensor of matching boxes which has the same dimensionality as the proposed boxes, which matches them in the sense that matching_boxes[i, j, :] contains the true box with the highest overlap with the proposed box at position proposed_boxes[i, j, :]\n",
    "- A tensor of labels describing the match as a positive example (1), negative example (0), or no example(-1). This tensor will have dimensionality (b, num_proposed_booxes).\n"
   ]
  },
  {
   "cell_type": "code",
   "execution_count": 231,
   "metadata": {},
   "outputs": [],
   "source": [
    "def match_boxes(true_boxes: torch.Tensor, proposed_boxes: torch.Tensor, \n",
    "                min_num_positives: int, in_format: str = 'xywh', \n",
    "                positivity_threshold: float = 0.7, \n",
    "                negativity_threshold: float = 0.3):\n",
    "    \n",
    "    assert len(true_boxes.shape) == 2\n",
    "    assert len(proposed_boxes.shape) == 2\n",
    "    \n",
    "    num_true_boxes, _ = true_boxes.shape\n",
    "    num_proposed_boxes, _ = proposed_boxes.shape\n",
    "\n",
    "    ious = ops.box_iou(\n",
    "        ops.box_convert(proposed_boxes, in_fmt=in_format, out_fmt='xyxy'),\n",
    "        ops.box_convert(true_boxes, in_fmt=in_format, out_fmt='xyxy')\n",
    "    )\n",
    "    \n",
    "    max_ious = torch.max(ious, dim=-1, )\n",
    "    matching_true_boxes = true_boxes[max_ious.indices]\n",
    "    \n",
    "    labels = torch.ones_like(max_ious.values) * -1\n",
    "    \n",
    "    # select positives\n",
    "    labels.masked_fill_( max_ious.values >= positivity_threshold, 1)\n",
    "    \n",
    "    # add more positives if not enough\n",
    "    if torch.sum(max_ious.values >= positivity_threshold).item() < min_num_positives:\n",
    "        indices = torch.sort(max_ious.values, dim=-1, descending=True).indices\n",
    "        labels[indices[:min_num_positives]] = 1\n",
    "        \n",
    "    # select negatives\n",
    "    labels.masked_fill_( max_ious.values < negativity_threshold, 0)\n",
    "    \n",
    "    return matching_true_boxes, proposed_boxes, labels\n",
    "    "
   ]
  },
  {
   "cell_type": "markdown",
   "metadata": {},
   "source": [
    "## The algorithm when there is more than one object class"
   ]
  },
  {
   "cell_type": "markdown",
   "metadata": {},
   "source": [
    "So far, our algorithm works when we have only 2 classes: 0 (background) and 1(object). We would like it to work when there is more than one foreground class as well. In this case, we will have a tensor of true box labels together with the true boxes:"
   ]
  },
  {
   "cell_type": "code",
   "execution_count": 92,
   "metadata": {},
   "outputs": [],
   "source": [
    "true_boxes = true_boxes\n",
    "proposed_boxes = proposed_boxes\n",
    "true_box_labels = torch.randint(1, 3, (len(true_boxes),)).long()\n",
    "in_format = 'xywh'\n",
    "positivity_threshold = 0.5\n",
    "negativity_threshold = 0.3\n",
    "min_num_positives = 3"
   ]
  },
  {
   "cell_type": "markdown",
   "metadata": {},
   "source": [
    "We go through the first few steps of our algorithm:"
   ]
  },
  {
   "cell_type": "code",
   "execution_count": 93,
   "metadata": {},
   "outputs": [],
   "source": [
    "assert len(true_boxes.shape) == 2\n",
    "assert len(proposed_boxes.shape) == 2\n",
    "\n",
    "num_true_boxes, _ = true_boxes.shape\n",
    "num_proposed_boxes, _ = proposed_boxes.shape\n",
    "\n",
    "ious = ops.box_iou(\n",
    "    ops.box_convert(proposed_boxes, in_fmt=in_format, out_fmt='xyxy'),\n",
    "    ops.box_convert(true_boxes, in_fmt=in_format, out_fmt='xyxy')\n",
    ")"
   ]
  },
  {
   "cell_type": "markdown",
   "metadata": {},
   "source": [
    "now, we will match the proposed boxes with their ground truth boxes and their labels:"
   ]
  },
  {
   "cell_type": "code",
   "execution_count": 94,
   "metadata": {},
   "outputs": [],
   "source": [
    "max_ious = torch.max(ious, dim=-1, )\n",
    "matching_true_boxes = true_boxes[max_ious.indices]\n",
    "\n",
    "if true_box_labels is not None:\n",
    "    matching_true_box_labels = true_box_labels[max_ious.indices]"
   ]
  },
  {
   "cell_type": "markdown",
   "metadata": {},
   "source": [
    "When we select the labels, we will now use the labels from the matching labels for the positives:"
   ]
  },
  {
   "cell_type": "code",
   "execution_count": 95,
   "metadata": {},
   "outputs": [],
   "source": [
    "labels = (torch.ones_like(max_ious.values) * -1).long()\n",
    "\n",
    "indices = torch.tensor(range(len(labels)))\n",
    "\n",
    "positive_indices = indices[max_ious.values >= positivity_threshold]\n",
    "if len(positive_indices) < min_num_positives:\n",
    "    positive_indices = torch.sort(max_ious.values, dim=-1, descending=True).indices[:min_num_positives]\n",
    "\n",
    "if true_box_labels is not None: \n",
    "    labels[positive_indices] = matching_true_box_labels[positive_indices] \n",
    "else:\n",
    "    labels[positive_indices] = 1\n",
    "\n",
    "negative_indices = indices[max_ious.values < negativity_threshold]\n",
    "\n",
    "labels[negative_indices] = 0"
   ]
  },
  {
   "cell_type": "markdown",
   "metadata": {},
   "source": [
    "Here is the revised algorithm:"
   ]
  },
  {
   "cell_type": "code",
   "execution_count": null,
   "metadata": {},
   "outputs": [],
   "source": [
    "def match_proposed_boxes_to_true(\n",
    "        true_boxes: torch.Tensor, \n",
    "        proposed_boxes: torch.Tensor, \n",
    "        min_num_positives: int, \n",
    "        in_format: str = 'xywh', \n",
    "        true_box_labels: torch.Tensor = None, \n",
    "        positivity_threshold: float = 0.7, \n",
    "        negativity_threshold: float = 0.3\n",
    "    ):\n",
    "    \"\"\"Matches proposed bounding boxes to a tensor of ground truth bounding boxes\n",
    "       and returns a tensor of labels indicating positive (1, object) or negative \n",
    "       (0, no object) or inconclusive (-1) for each match based on whether \n",
    "       a certain IoU threshold with a ground truth box is met. This labeling is done\n",
    "       according to specified thresholds and also with a specified minimum number \n",
    "       of positives. If the positivity threshold does not generate enough positives,\n",
    "       they will be generated by choosing the ones with the best overlap.\n",
    "\n",
    "    Args:\n",
    "        true_boxes (torch.Tensor): A tensor of boxes of shape (N, 4)\n",
    "        \n",
    "        proposed_boxes (torch.Tensor): A tensor of boxes of shape (M, 4)\n",
    "        \n",
    "        min_num_positives (int): minimum number of positives generated by the matching\n",
    "        \n",
    "        in_format (str, optional): string specifying the string format - \n",
    "        see torchvision ops documentation.Defaults to 'xywh'.\n",
    "        \n",
    "        box_labels (torch.Tensor, optiona): tensor of shape (N) giving the class labels\n",
    "        corresponding with the ground truth boxes. \n",
    "        \n",
    "        positivity_threshold (float, optional): Above this threshold a proposed box will \n",
    "        be considered to match with the ground truth. Defaults to 0.7.\n",
    "        \n",
    "        negativity_threshold (float, optional): below this threshold a box will be considered \n",
    "        to be background. Defaults to 0.3.\n",
    "\n",
    "    Returns:\n",
    "        [type]: [description]\n",
    "    \"\"\"\n",
    "    assert len(true_boxes.shape) == 2\n",
    "    assert len(proposed_boxes.shape) == 2\n",
    "    \n",
    "    num_true_boxes, _ = true_boxes.shape\n",
    "    num_proposed_boxes, _ = proposed_boxes.shape\n",
    "\n",
    "    ious = ops.box_iou(\n",
    "        ops.box_convert(proposed_boxes, in_fmt=in_format, out_fmt='xyxy'),\n",
    "        ops.box_convert(true_boxes, in_fmt=in_format, out_fmt='xyxy')\n",
    "    )\n",
    "    \n",
    "    max_ious = torch.max(ious, dim=-1, )\n",
    "    matching_true_boxes = true_boxes[max_ious.indices]\n",
    "    if true_box_labels is not None:\n",
    "        matching_true_box_labels = true_box_labels[max_ious.indices]\n",
    "    \n",
    "    labels = (torch.ones_like(max_ious.values) * -1).long()\n",
    "    indices = torch.tensor(range(len(labels)))\n",
    "\n",
    "    negative_indices = indices[max_ious.values < negativity_threshold]\n",
    "\n",
    "    labels[negative_indices] = 0\n",
    "\n",
    "    positive_indices = indices[max_ious.values >= positivity_threshold]\n",
    "    if len(positive_indices) < min_num_positives:\n",
    "        positive_indices = torch.sort(max_ious.values, dim=-1, descending=True).indices[:min_num_positives]\n",
    "\n",
    "    if true_box_labels is not None: \n",
    "        labels[positive_indices] = matching_true_box_labels[positive_indices] \n",
    "    else:\n",
    "        labels[positive_indices] = 1\n",
    "\n",
    "    return {\n",
    "        'matching_true_boxes': matching_true_boxes, \n",
    "        'proposed_boxes': proposed_boxes,\n",
    "        'labels': labels\n",
    "    }"
   ]
  }
 ],
 "metadata": {
  "interpreter": {
   "hash": "076c5b3100cf5c21b2117d6c29f9acded3ff1582821caca1987db7343f90d29e"
  },
  "kernelspec": {
   "display_name": "Python 3.8.12 64-bit ('lungbot': conda)",
   "language": "python",
   "name": "python3"
  },
  "language_info": {
   "codemirror_mode": {
    "name": "ipython",
    "version": 3
   },
   "file_extension": ".py",
   "mimetype": "text/x-python",
   "name": "python",
   "nbconvert_exporter": "python",
   "pygments_lexer": "ipython3",
   "version": "3.8.12"
  },
  "orig_nbformat": 4
 },
 "nbformat": 4,
 "nbformat_minor": 2
}
