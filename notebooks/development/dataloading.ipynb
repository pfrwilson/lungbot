{
 "cells": [
  {
   "cell_type": "markdown",
   "metadata": {},
   "source": [
    "# Dataset and Data Loading"
   ]
  },
  {
   "cell_type": "code",
   "execution_count": 49,
   "metadata": {},
   "outputs": [],
   "source": [
    "from typing import List, Optional\n",
    "import einops\n",
    "import torch\n",
    "from torch.utils.data import Dataset, DataLoader\n",
    "import SimpleITK as sitk\n",
    "import pandas as pd\n",
    "import os\n",
    "import numpy as np\n",
    "from skimage.color import gray2rgb"
   ]
  },
  {
   "cell_type": "markdown",
   "metadata": {},
   "source": [
    "## Dataset"
   ]
  },
  {
   "cell_type": "markdown",
   "metadata": {},
   "source": [
    "Here is the code for our dataset:"
   ]
  },
  {
   "cell_type": "code",
   "execution_count": 1,
   "metadata": {},
   "outputs": [],
   "source": [
    "\n",
    "SEEDS = {\n",
    "    'test': 1, \n",
    "    'val': 2\n",
    "}\n",
    "\n",
    "class CXRDataset(Dataset):\n",
    "    \n",
    "    def __init__(\n",
    "            self, \n",
    "            root, \n",
    "            split='train', \n",
    "            resample_val=False,\n",
    "            ignore_negatives=True, \n",
    "            to_tensor=True\n",
    "        ):\n",
    "        \n",
    "        super().__init__()\n",
    "        \n",
    "        self.root = root\n",
    "        self.split = split\n",
    "        self.to_tensor = to_tensor\n",
    "        \n",
    "        self.metadata = pd.read_csv(\n",
    "            os.path.join(root, 'metadata.csv'),\n",
    "            index_col=0\n",
    "        )\n",
    "\n",
    "        idx_df = self.__get_idx_df(root, resample_val)\n",
    "        \n",
    "        # add labels\n",
    "        idx_df = pd.merge(\n",
    "            idx_df, \n",
    "            self.metadata[['img_name', 'label']].drop_duplicates(), \n",
    "            on='img_name', \n",
    "            how='inner'\n",
    "        )\n",
    "        \n",
    "        # extract split\n",
    "        if split:\n",
    "            assert split in ['train', 'val', 'test']\n",
    "            idx_df = idx_df.loc[idx_df['split'] == split]\n",
    "        \n",
    "        if ignore_negatives:\n",
    "            idx_df = idx_df.loc[idx_df['label'] == 1]\n",
    "        \n",
    "        self.idx_df = idx_df.reset_index(drop=True)\n",
    "        \n",
    "    def __len__(self):\n",
    "        return len(self.idx_df)\n",
    "    \n",
    "    def __getitem__(self, idx):\n",
    "        \n",
    "        try:\n",
    "            img_name = self.idx_df.loc[idx, 'img_name']\n",
    "        except KeyError:\n",
    "            raise IndexError    \n",
    "            \n",
    "        item_metadata = self.metadata.loc[self.metadata.img_name == img_name]\n",
    "        \n",
    "        pixel_values = self.__read_mdh_to_numpy(\n",
    "            os.path.join(\n",
    "                self.root, \n",
    "                'images', \n",
    "                img_name)\n",
    "        )\n",
    "        \n",
    "        bounding_boxes = []\n",
    "        for row in item_metadata.iloc:\n",
    "            d = dict(row)\n",
    "            d.pop('img_name')\n",
    "            bounding_boxes.append(d)\n",
    "        \n",
    "        max_ = np.max(pixel_values)\n",
    "        min_ = np.min(pixel_values)\n",
    "        pixel_values = (pixel_values - min_)/(max_ - min_)\n",
    "        \n",
    "        bounding_boxes = pd.DataFrame(bounding_boxes)\n",
    "        pixel_values = gray2rgb(pixel_values)\n",
    "        \n",
    "        if self.to_tensor:\n",
    "            values = bounding_boxes[['x', 'y', 'width', 'height']].values\n",
    "            bounding_boxes = torch.tensor(values)\n",
    "        \n",
    "            pixel_values = einops.rearrange(\n",
    "                pixel_values, 'h w c -> c h w', \n",
    "                h = 1024, \n",
    "                w = 1024, \n",
    "                c = 3\n",
    "            )\n",
    "            pixel_values = torch.tensor(pixel_values)\n",
    "        \n",
    "        return pixel_values, bounding_boxes      \n",
    "    \n",
    "    @staticmethod\n",
    "    def __read_mdh_to_numpy(filename: str):\n",
    "        \n",
    "        img = sitk.ReadImage(filename)\n",
    "        array = sitk.GetArrayFromImage(img)\n",
    "        \n",
    "        return array\n",
    "    \n",
    "    @staticmethod\n",
    "    def __get_idx_df(root, resample_val):\n",
    "        \n",
    "        idx_df = pd.DataFrame(\n",
    "                os.listdir(os.path.join(root, 'images')), \n",
    "                columns=['img_name']\n",
    "            ).sort_values(by='img_name').reset_index(drop=True)\n",
    "        \n",
    "        idx_df['split'] = pd.Series(dtype='object')\n",
    "\n",
    "        # generate masks\n",
    "        \n",
    "        rng = np.random.RandomState(seed=SEEDS['test'])\n",
    "        test_mask = rng.rand(len(idx_df)) >= 0.8\n",
    "\n",
    "        rng = np.random.RandomState(seed=None if resample_val else SEEDS['val'])\n",
    "        val_mask = np.logical_and(rng.rand(len(idx_df)) >= 0.9, ~test_mask)\n",
    "\n",
    "        train_mask = np.logical_and(~val_mask, ~test_mask)\n",
    "        \n",
    "        idx_df['split'] = idx_df['split'].mask(test_mask, 'test')\n",
    "        idx_df['split'] = idx_df['split'].mask(val_mask, 'val')\n",
    "        idx_df['split'] = idx_df['split'].mask(train_mask, 'train')\n",
    "    \n",
    "        idx_df.to_csv(\n",
    "            os.path.join(root, 'split_info.csv'),\n",
    "            header=True\n",
    "        )\n",
    "        \n",
    "        return idx_df\n",
    "    "
   ]
  },
  {
   "cell_type": "markdown",
   "metadata": {},
   "source": [
    "Let's instantiate the dataset using the path to the data directory:"
   ]
  },
  {
   "cell_type": "code",
   "execution_count": 2,
   "metadata": {},
   "outputs": [],
   "source": [
    "root = '/Users/paulwilson/data/node_21/cxr_images/proccessed_data'"
   ]
  },
  {
   "cell_type": "markdown",
   "metadata": {},
   "source": [
    "First, we instantiate it with the flag 'to tensor' clear, so that we can take a look at the items:"
   ]
  },
  {
   "cell_type": "code",
   "execution_count": 55,
   "metadata": {},
   "outputs": [],
   "source": [
    "ds = CXRDataset(root, to_tensor=False)\n",
    "pixel_values, bounding_boxes = ds[9]"
   ]
  },
  {
   "cell_type": "markdown",
   "metadata": {},
   "source": [
    "Let's show the chest x-ray image, and look at the corresponding bounding box:"
   ]
  },
  {
   "cell_type": "code",
   "execution_count": 56,
   "metadata": {},
   "outputs": [
    {
     "data": {
      "text/plain": [
       "<matplotlib.patches.Rectangle at 0x1195a7820>"
      ]
     },
     "execution_count": 56,
     "metadata": {},
     "output_type": "execute_result"
    },
    {
     "data": {
      "image/png": "[encoded data removed]",
      "text/plain": [
       "<Figure size 432x288 with 2 Axes>"
      ]
     },
     "metadata": {
      "needs_background": "light"
     },
     "output_type": "display_data"
    }
   ],
   "source": [
    "import matplotlib.pyplot as plt\n",
    "from matplotlib.patches import Rectangle\n",
    "\n",
    "fig, (ax1, ax2) = plt.subplots(1, 2)\n",
    "ax1.imshow(pixel_values)\n",
    "ax2.imshow(pixel_values)\n",
    "\n",
    "x, y, w, h = bounding_boxes.loc[0, ['x', 'y', 'width', 'height']]\n",
    "\n",
    "rectangle = Rectangle((x, y), w, h)\n",
    "ax2.add_patch(rectangle)"
   ]
  },
  {
   "cell_type": "markdown",
   "metadata": {},
   "source": [
    "## Data Loading"
   ]
  },
  {
   "cell_type": "markdown",
   "metadata": {},
   "source": [
    "For this section, we will set the \"to_tensor\" flag to true so that we are dealing with the data as it will be actually used during training:"
   ]
  },
  {
   "cell_type": "code",
   "execution_count": 26,
   "metadata": {},
   "outputs": [],
   "source": [
    "ds = CXRDataset(root)"
   ]
  },
  {
   "cell_type": "markdown",
   "metadata": {},
   "source": [
    "Because of the format of our data, we need to put a little more thought into the way we load it. Normally, a dataloader class collates data items by stacking them across a new batch dimension. However, our data items are of the form \n",
    "`pixel_values, true_boxes`, \n",
    "which are both tensors. Pixel values consistently has the shape (3, 1024, 1024), but true boxes has shape (N, 4), where N is the number of nodules in the image - this number can be of varying length. Because it can be of varying length, we cannot simply stack along a batch dimension. We must instead use a special collate function where we concatenate the true boxes along their N dimension, but also include an indexing tensor with the batch to specify which item in the batch the true boxes came from. "
   ]
  },
  {
   "cell_type": "code",
   "execution_count": 27,
   "metadata": {},
   "outputs": [],
   "source": [
    "items = [ds[idx] for idx in range(2)]"
   ]
  },
  {
   "cell_type": "markdown",
   "metadata": {},
   "source": [
    "the pixel values can simply be stacked together as usual. the expected shape is 2, 3, 1024, 1024. "
   ]
  },
  {
   "cell_type": "code",
   "execution_count": 28,
   "metadata": {},
   "outputs": [
    {
     "data": {
      "text/plain": [
       "torch.Size([2, 3, 1024, 1024])"
      ]
     },
     "execution_count": 28,
     "metadata": {},
     "output_type": "execute_result"
    }
   ],
   "source": [
    "pixel_values = [ pixel_values for (pixel_values, _) in items]\n",
    "\n",
    "pixel_values = torch.stack(pixel_values, dim=0)\n",
    "    \n",
    "pixel_values.shape"
   ]
  },
  {
   "cell_type": "markdown",
   "metadata": {},
   "source": [
    "The true boxes have to be collated as described above:"
   ]
  },
  {
   "cell_type": "code",
   "execution_count": 29,
   "metadata": {},
   "outputs": [],
   "source": [
    "true_boxes = [ true_boxes for (_, true_boxes) in items]\n",
    "\n",
    "indices = []\n",
    "for i in range(len(true_boxes)):\n",
    "    indices.extend( [i] * len(true_boxes[i]) )\n",
    "indices = torch.tensor( indices )\n",
    "true_boxes = torch.concat(true_boxes, axis=0)"
   ]
  },
  {
   "cell_type": "code",
   "execution_count": 32,
   "metadata": {},
   "outputs": [
    {
     "data": {
      "text/plain": [
       "(tensor([[709, 408, 108,  93],\n",
       "         [804, 445,  40,  47]]),\n",
       " tensor([0, 1]))"
      ]
     },
     "execution_count": 32,
     "metadata": {},
     "output_type": "execute_result"
    }
   ],
   "source": [
    "true_boxes, indices"
   ]
  },
  {
   "cell_type": "markdown",
   "metadata": {},
   "source": [
    "Therefore, we use this collate function:"
   ]
  },
  {
   "cell_type": "code",
   "execution_count": 35,
   "metadata": {},
   "outputs": [],
   "source": [
    "def collate_items(items: List[torch.Tensor]):\n",
    "    \n",
    "    pixel_values = [ pixel_values for (pixel_values, _) in items]\n",
    "    pixel_values = torch.stack(pixel_values, dim=0)\n",
    "    \n",
    "    true_boxes = [ true_boxes for (_, true_boxes) in items]\n",
    "\n",
    "    true_box_indices = []\n",
    "    for i in range(len(true_boxes)):\n",
    "        true_box_indices.extend( [i] * len(true_boxes[i]) )\n",
    "    true_box_indices = torch.tensor( true_box_indices )\n",
    "    true_boxes = torch.concat(true_boxes, axis=0)\n",
    "    \n",
    "    return pixel_values, true_boxes, true_box_indices"
   ]
  },
  {
   "cell_type": "markdown",
   "metadata": {},
   "source": [
    "Now, we should be able to instantiate our dataloader class and have it return tuples in the form above: "
   ]
  },
  {
   "cell_type": "code",
   "execution_count": 41,
   "metadata": {},
   "outputs": [],
   "source": [
    "dl = DataLoader(ds, batch_size=64, collate_fn=collate_items)"
   ]
  },
  {
   "cell_type": "code",
   "execution_count": 44,
   "metadata": {},
   "outputs": [],
   "source": [
    "pixel_values, true_boxes, true_box_indices = next(iter(dl))"
   ]
  },
  {
   "cell_type": "markdown",
   "metadata": {},
   "source": [
    "We note that this collation process is very fast, and returns the expected results. We can access the true boxes from a specific item in the batch like so:"
   ]
  },
  {
   "cell_type": "code",
   "execution_count": 48,
   "metadata": {},
   "outputs": [
    {
     "data": {
      "text/plain": [
       "tensor([[245, 631,  47,  49]])"
      ]
     },
     "execution_count": 48,
     "metadata": {},
     "output_type": "execute_result"
    }
   ],
   "source": [
    "desired_idx = 10\n",
    "true_boxes[true_box_indices == desired_idx]"
   ]
  },
  {
   "cell_type": "markdown",
   "metadata": {},
   "source": [
    "## Datamodule"
   ]
  },
  {
   "cell_type": "markdown",
   "metadata": {},
   "source": [
    "Now we can build our data module class, which is a wrapper for data loaders and data sets using in training a pytorch lightning system. Its job is to instantiate the datasets when setup() is called and provide the training, validation, and test dataloaders. "
   ]
  },
  {
   "cell_type": "code",
   "execution_count": 51,
   "metadata": {},
   "outputs": [],
   "source": [
    "from pytorch_lightning import LightningDataModule\n",
    "\n",
    "class CXRDataModule(LightningDataModule):\n",
    "    \n",
    "    def __init__(self, root: str, batch_size: int):\n",
    "        \n",
    "        self.root = root\n",
    "        self.batch_size = batch_size\n",
    "        self.collate_fn = collate_items\n",
    "        \n",
    "    def setup(self, stage: Optional[str] = None) -> None:\n",
    "        \n",
    "        self.train_ds = CXRDataset(root, split='train')\n",
    "        self.val_ds = CXRDataset(root, split = 'val')\n",
    "        self.test_ds = CXRDataset(root, split='test')\n",
    "\n",
    "    def train_dataloader(self):\n",
    "        return DataLoader(\n",
    "            self.train_ds, \n",
    "            batch_size = self.batch_size, \n",
    "            collate_fn = self.collate_fn\n",
    "        )      \n",
    "        \n",
    "    def val_dataloader(self):\n",
    "        return DataLoader(\n",
    "            self.val_ds, \n",
    "            batch_size = self.batch_size, \n",
    "            collate_fn = self.collate_fn\n",
    "        )    \n",
    "    \n",
    "    def test_dataloader(self):\n",
    "        return DataLoader(\n",
    "            self.test_ds, \n",
    "            batch_size = self.batch_size, \n",
    "            collate_fn = self.collate_fn\n",
    "        )    "
   ]
  },
  {
   "cell_type": "code",
   "execution_count": 54,
   "metadata": {},
   "outputs": [
    {
     "data": {
      "text/plain": [
       "(tensor([[[[0., 0., 0.,  ..., 0., 0., 0.],\n",
       "           [0., 0., 0.,  ..., 0., 0., 0.],\n",
       "           [0., 0., 0.,  ..., 0., 0., 0.],\n",
       "           ...,\n",
       "           [0., 0., 0.,  ..., 0., 0., 0.],\n",
       "           [0., 0., 0.,  ..., 0., 0., 0.],\n",
       "           [0., 0., 0.,  ..., 0., 0., 0.]],\n",
       " \n",
       "          [[0., 0., 0.,  ..., 0., 0., 0.],\n",
       "           [0., 0., 0.,  ..., 0., 0., 0.],\n",
       "           [0., 0., 0.,  ..., 0., 0., 0.],\n",
       "           ...,\n",
       "           [0., 0., 0.,  ..., 0., 0., 0.],\n",
       "           [0., 0., 0.,  ..., 0., 0., 0.],\n",
       "           [0., 0., 0.,  ..., 0., 0., 0.]],\n",
       " \n",
       "          [[0., 0., 0.,  ..., 0., 0., 0.],\n",
       "           [0., 0., 0.,  ..., 0., 0., 0.],\n",
       "           [0., 0., 0.,  ..., 0., 0., 0.],\n",
       "           ...,\n",
       "           [0., 0., 0.,  ..., 0., 0., 0.],\n",
       "           [0., 0., 0.,  ..., 0., 0., 0.],\n",
       "           [0., 0., 0.,  ..., 0., 0., 0.]]],\n",
       " \n",
       " \n",
       "         [[[0., 0., 0.,  ..., 0., 0., 0.],\n",
       "           [0., 0., 0.,  ..., 0., 0., 0.],\n",
       "           [0., 0., 0.,  ..., 0., 0., 0.],\n",
       "           ...,\n",
       "           [0., 0., 0.,  ..., 0., 0., 0.],\n",
       "           [0., 0., 0.,  ..., 0., 0., 0.],\n",
       "           [0., 0., 0.,  ..., 0., 0., 0.]],\n",
       " \n",
       "          [[0., 0., 0.,  ..., 0., 0., 0.],\n",
       "           [0., 0., 0.,  ..., 0., 0., 0.],\n",
       "           [0., 0., 0.,  ..., 0., 0., 0.],\n",
       "           ...,\n",
       "           [0., 0., 0.,  ..., 0., 0., 0.],\n",
       "           [0., 0., 0.,  ..., 0., 0., 0.],\n",
       "           [0., 0., 0.,  ..., 0., 0., 0.]],\n",
       " \n",
       "          [[0., 0., 0.,  ..., 0., 0., 0.],\n",
       "           [0., 0., 0.,  ..., 0., 0., 0.],\n",
       "           [0., 0., 0.,  ..., 0., 0., 0.],\n",
       "           ...,\n",
       "           [0., 0., 0.,  ..., 0., 0., 0.],\n",
       "           [0., 0., 0.,  ..., 0., 0., 0.],\n",
       "           [0., 0., 0.,  ..., 0., 0., 0.]]],\n",
       " \n",
       " \n",
       "         [[[0., 0., 0.,  ..., 0., 0., 0.],\n",
       "           [0., 0., 0.,  ..., 0., 0., 0.],\n",
       "           [0., 0., 0.,  ..., 0., 0., 0.],\n",
       "           ...,\n",
       "           [0., 0., 0.,  ..., 0., 0., 0.],\n",
       "           [0., 0., 0.,  ..., 0., 0., 0.],\n",
       "           [0., 0., 0.,  ..., 0., 0., 0.]],\n",
       " \n",
       "          [[0., 0., 0.,  ..., 0., 0., 0.],\n",
       "           [0., 0., 0.,  ..., 0., 0., 0.],\n",
       "           [0., 0., 0.,  ..., 0., 0., 0.],\n",
       "           ...,\n",
       "           [0., 0., 0.,  ..., 0., 0., 0.],\n",
       "           [0., 0., 0.,  ..., 0., 0., 0.],\n",
       "           [0., 0., 0.,  ..., 0., 0., 0.]],\n",
       " \n",
       "          [[0., 0., 0.,  ..., 0., 0., 0.],\n",
       "           [0., 0., 0.,  ..., 0., 0., 0.],\n",
       "           [0., 0., 0.,  ..., 0., 0., 0.],\n",
       "           ...,\n",
       "           [0., 0., 0.,  ..., 0., 0., 0.],\n",
       "           [0., 0., 0.,  ..., 0., 0., 0.],\n",
       "           [0., 0., 0.,  ..., 0., 0., 0.]]],\n",
       " \n",
       " \n",
       "         [[[0., 0., 0.,  ..., 0., 0., 0.],\n",
       "           [0., 0., 0.,  ..., 0., 0., 0.],\n",
       "           [0., 0., 0.,  ..., 0., 0., 0.],\n",
       "           ...,\n",
       "           [0., 0., 0.,  ..., 0., 0., 0.],\n",
       "           [0., 0., 0.,  ..., 0., 0., 0.],\n",
       "           [0., 0., 0.,  ..., 0., 0., 0.]],\n",
       " \n",
       "          [[0., 0., 0.,  ..., 0., 0., 0.],\n",
       "           [0., 0., 0.,  ..., 0., 0., 0.],\n",
       "           [0., 0., 0.,  ..., 0., 0., 0.],\n",
       "           ...,\n",
       "           [0., 0., 0.,  ..., 0., 0., 0.],\n",
       "           [0., 0., 0.,  ..., 0., 0., 0.],\n",
       "           [0., 0., 0.,  ..., 0., 0., 0.]],\n",
       " \n",
       "          [[0., 0., 0.,  ..., 0., 0., 0.],\n",
       "           [0., 0., 0.,  ..., 0., 0., 0.],\n",
       "           [0., 0., 0.,  ..., 0., 0., 0.],\n",
       "           ...,\n",
       "           [0., 0., 0.,  ..., 0., 0., 0.],\n",
       "           [0., 0., 0.,  ..., 0., 0., 0.],\n",
       "           [0., 0., 0.,  ..., 0., 0., 0.]]]], dtype=torch.float64),\n",
       " tensor([[709, 408, 108,  93],\n",
       "         [804, 445,  40,  47],\n",
       "         [737, 698,  54,  38],\n",
       "         [641, 390,  51,  57]]),\n",
       " tensor([0, 1, 2, 3]))"
      ]
     },
     "execution_count": 54,
     "metadata": {},
     "output_type": "execute_result"
    }
   ],
   "source": [
    "dm = CXRDataModule(root, batch_size=4)\n",
    "dm.setup()\n",
    "dataloader = dm.train_dataloader()\n",
    "batch = next(iter(dataloader))\n",
    "batch"
   ]
  },
  {
   "cell_type": "markdown",
   "metadata": {},
   "source": [
    "Looks like everything is working perfectly!"
   ]
  }
 ],
 "metadata": {
  "interpreter": {
   "hash": "076c5b3100cf5c21b2117d6c29f9acded3ff1582821caca1987db7343f90d29e"
  },
  "kernelspec": {
   "display_name": "Python 3.8.12 64-bit ('lungbot': conda)",
   "language": "python",
   "name": "python3"
  },
  "language_info": {
   "codemirror_mode": {
    "name": "ipython",
    "version": 3
   },
   "file_extension": ".py",
   "mimetype": "text/x-python",
   "name": "python",
   "nbconvert_exporter": "python",
   "pygments_lexer": "ipython3",
   "version": "3.8.12"
  },
  "orig_nbformat": 4
 },
 "nbformat": 4,
 "nbformat_minor": 2
}
